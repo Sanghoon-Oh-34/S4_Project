{
 "cells": [
  {
   "cell_type": "markdown",
   "id": "ec00e73a-08fd-4f0e-85d2-7f697806504e",
   "metadata": {},
   "source": [
    "# 1. 모듈/라이브러리 불러오기"
   ]
  },
  {
   "cell_type": "code",
   "execution_count": 30,
   "id": "52f0a70f-ab8a-4d49-a9af-cd70bef9441d",
   "metadata": {},
   "outputs": [],
   "source": [
    "import numpy as np\n",
    "import pandas as pd\n",
    "import matplotlib.pyplot as plt\n",
    "import seaborn as sns\n",
    "\n",
    "from nltk.tokenize import word_tokenize\n",
    "from nltk.corpus import stopwords\n",
    "from string import punctuation\n",
    "\n",
    "import string\n",
    "import gensim\n",
    "import gensim.downloader as api\n",
    "from tqdm import tqdm"
   ]
  },
  {
   "cell_type": "markdown",
   "id": "d1b93aab-fb17-4f33-ade2-14d3455e7b0f",
   "metadata": {},
   "source": [
    "# 2. 탐색적 데이터 분석(EDA)"
   ]
  },
  {
   "cell_type": "code",
   "execution_count": 2,
   "id": "ed4f6973-529f-406d-a5f4-62341316eb2b",
   "metadata": {},
   "outputs": [],
   "source": [
    "df_netflix = pd.read_csv('Datasets/netflix_titles.csv')"
   ]
  },
  {
   "cell_type": "code",
   "execution_count": 3,
   "id": "1aa8a68e-a494-4358-b06d-70671c1d5f8f",
   "metadata": {},
   "outputs": [
    {
     "data": {
      "text/html": [
       "<div>\n",
       "<style scoped>\n",
       "    .dataframe tbody tr th:only-of-type {\n",
       "        vertical-align: middle;\n",
       "    }\n",
       "\n",
       "    .dataframe tbody tr th {\n",
       "        vertical-align: top;\n",
       "    }\n",
       "\n",
       "    .dataframe thead th {\n",
       "        text-align: right;\n",
       "    }\n",
       "</style>\n",
       "<table border=\"1\" class=\"dataframe\">\n",
       "  <thead>\n",
       "    <tr style=\"text-align: right;\">\n",
       "      <th></th>\n",
       "      <th>show_id</th>\n",
       "      <th>type</th>\n",
       "      <th>title</th>\n",
       "      <th>director</th>\n",
       "      <th>cast</th>\n",
       "      <th>country</th>\n",
       "      <th>date_added</th>\n",
       "      <th>release_year</th>\n",
       "      <th>rating</th>\n",
       "      <th>duration</th>\n",
       "      <th>listed_in</th>\n",
       "      <th>description</th>\n",
       "    </tr>\n",
       "  </thead>\n",
       "  <tbody>\n",
       "    <tr>\n",
       "      <th>0</th>\n",
       "      <td>81145628</td>\n",
       "      <td>Movie</td>\n",
       "      <td>Norm of the North: King Sized Adventure</td>\n",
       "      <td>Richard Finn, Tim Maltby</td>\n",
       "      <td>Alan Marriott, Andrew Toth, Brian Dobson, Cole...</td>\n",
       "      <td>United States, India, South Korea, China</td>\n",
       "      <td>September 9, 2019</td>\n",
       "      <td>2019</td>\n",
       "      <td>TV-PG</td>\n",
       "      <td>90 min</td>\n",
       "      <td>Children &amp; Family Movies, Comedies</td>\n",
       "      <td>Before planning an awesome wedding for his gra...</td>\n",
       "    </tr>\n",
       "    <tr>\n",
       "      <th>1</th>\n",
       "      <td>80117401</td>\n",
       "      <td>Movie</td>\n",
       "      <td>Jandino: Whatever it Takes</td>\n",
       "      <td>NaN</td>\n",
       "      <td>Jandino Asporaat</td>\n",
       "      <td>United Kingdom</td>\n",
       "      <td>September 9, 2016</td>\n",
       "      <td>2016</td>\n",
       "      <td>TV-MA</td>\n",
       "      <td>94 min</td>\n",
       "      <td>Stand-Up Comedy</td>\n",
       "      <td>Jandino Asporaat riffs on the challenges of ra...</td>\n",
       "    </tr>\n",
       "    <tr>\n",
       "      <th>2</th>\n",
       "      <td>70234439</td>\n",
       "      <td>TV Show</td>\n",
       "      <td>Transformers Prime</td>\n",
       "      <td>NaN</td>\n",
       "      <td>Peter Cullen, Sumalee Montano, Frank Welker, J...</td>\n",
       "      <td>United States</td>\n",
       "      <td>September 8, 2018</td>\n",
       "      <td>2013</td>\n",
       "      <td>TV-Y7-FV</td>\n",
       "      <td>1 Season</td>\n",
       "      <td>Kids' TV</td>\n",
       "      <td>With the help of three human allies, the Autob...</td>\n",
       "    </tr>\n",
       "    <tr>\n",
       "      <th>3</th>\n",
       "      <td>80058654</td>\n",
       "      <td>TV Show</td>\n",
       "      <td>Transformers: Robots in Disguise</td>\n",
       "      <td>NaN</td>\n",
       "      <td>Will Friedle, Darren Criss, Constance Zimmer, ...</td>\n",
       "      <td>United States</td>\n",
       "      <td>September 8, 2018</td>\n",
       "      <td>2016</td>\n",
       "      <td>TV-Y7</td>\n",
       "      <td>1 Season</td>\n",
       "      <td>Kids' TV</td>\n",
       "      <td>When a prison ship crash unleashes hundreds of...</td>\n",
       "    </tr>\n",
       "    <tr>\n",
       "      <th>4</th>\n",
       "      <td>80125979</td>\n",
       "      <td>Movie</td>\n",
       "      <td>#realityhigh</td>\n",
       "      <td>Fernando Lebrija</td>\n",
       "      <td>Nesta Cooper, Kate Walsh, John Michael Higgins...</td>\n",
       "      <td>United States</td>\n",
       "      <td>September 8, 2017</td>\n",
       "      <td>2017</td>\n",
       "      <td>TV-14</td>\n",
       "      <td>99 min</td>\n",
       "      <td>Comedies</td>\n",
       "      <td>When nerdy high schooler Dani finally attracts...</td>\n",
       "    </tr>\n",
       "  </tbody>\n",
       "</table>\n",
       "</div>"
      ],
      "text/plain": [
       "    show_id     type                                    title  \\\n",
       "0  81145628    Movie  Norm of the North: King Sized Adventure   \n",
       "1  80117401    Movie               Jandino: Whatever it Takes   \n",
       "2  70234439  TV Show                       Transformers Prime   \n",
       "3  80058654  TV Show         Transformers: Robots in Disguise   \n",
       "4  80125979    Movie                             #realityhigh   \n",
       "\n",
       "                   director  \\\n",
       "0  Richard Finn, Tim Maltby   \n",
       "1                       NaN   \n",
       "2                       NaN   \n",
       "3                       NaN   \n",
       "4          Fernando Lebrija   \n",
       "\n",
       "                                                cast  \\\n",
       "0  Alan Marriott, Andrew Toth, Brian Dobson, Cole...   \n",
       "1                                   Jandino Asporaat   \n",
       "2  Peter Cullen, Sumalee Montano, Frank Welker, J...   \n",
       "3  Will Friedle, Darren Criss, Constance Zimmer, ...   \n",
       "4  Nesta Cooper, Kate Walsh, John Michael Higgins...   \n",
       "\n",
       "                                    country         date_added  release_year  \\\n",
       "0  United States, India, South Korea, China  September 9, 2019          2019   \n",
       "1                            United Kingdom  September 9, 2016          2016   \n",
       "2                             United States  September 8, 2018          2013   \n",
       "3                             United States  September 8, 2018          2016   \n",
       "4                             United States  September 8, 2017          2017   \n",
       "\n",
       "     rating  duration                           listed_in  \\\n",
       "0     TV-PG    90 min  Children & Family Movies, Comedies   \n",
       "1     TV-MA    94 min                     Stand-Up Comedy   \n",
       "2  TV-Y7-FV  1 Season                            Kids' TV   \n",
       "3     TV-Y7  1 Season                            Kids' TV   \n",
       "4     TV-14    99 min                            Comedies   \n",
       "\n",
       "                                         description  \n",
       "0  Before planning an awesome wedding for his gra...  \n",
       "1  Jandino Asporaat riffs on the challenges of ra...  \n",
       "2  With the help of three human allies, the Autob...  \n",
       "3  When a prison ship crash unleashes hundreds of...  \n",
       "4  When nerdy high schooler Dani finally attracts...  "
      ]
     },
     "execution_count": 3,
     "metadata": {},
     "output_type": "execute_result"
    }
   ],
   "source": [
    "df_netflix.head()"
   ]
  },
  {
   "cell_type": "code",
   "execution_count": 4,
   "id": "d66408a1-49fc-4bef-980b-cc8621dbb72c",
   "metadata": {},
   "outputs": [
    {
     "name": "stdout",
     "output_type": "stream",
     "text": [
      "<class 'pandas.core.frame.DataFrame'>\n",
      "RangeIndex: 6234 entries, 0 to 6233\n",
      "Data columns (total 12 columns):\n",
      " #   Column        Non-Null Count  Dtype \n",
      "---  ------        --------------  ----- \n",
      " 0   show_id       6234 non-null   int64 \n",
      " 1   type          6234 non-null   object\n",
      " 2   title         6234 non-null   object\n",
      " 3   director      4265 non-null   object\n",
      " 4   cast          5664 non-null   object\n",
      " 5   country       5758 non-null   object\n",
      " 6   date_added    6223 non-null   object\n",
      " 7   release_year  6234 non-null   int64 \n",
      " 8   rating        6224 non-null   object\n",
      " 9   duration      6234 non-null   object\n",
      " 10  listed_in     6234 non-null   object\n",
      " 11  description   6234 non-null   object\n",
      "dtypes: int64(2), object(10)\n",
      "memory usage: 584.6+ KB\n"
     ]
    }
   ],
   "source": [
    "df_netflix.info()"
   ]
  },
  {
   "cell_type": "markdown",
   "id": "2fc7c6f3-bfca-418a-9624-76a58ff0a2f6",
   "metadata": {},
   "source": [
    "## 2-1. 영화와 TV 프로그램 비교"
   ]
  },
  {
   "cell_type": "code",
   "execution_count": 5,
   "id": "057ae5da-4241-4c79-8c44-c03aa27c0998",
   "metadata": {},
   "outputs": [
    {
     "data": {
      "image/png": "[encoded data removed]",
      "text/plain": [
       "<Figure size 720x576 with 1 Axes>"
      ]
     },
     "metadata": {
      "needs_background": "light"
     },
     "output_type": "display_data"
    }
   ],
   "source": [
    "plt.figure(figsize=(10,8))\n",
    "plt.title('Movie Vs TV Show')\n",
    "ax = sns.countplot(x='type', data=df_netflix, palette='cool')"
   ]
  },
  {
   "cell_type": "markdown",
   "id": "dbc64589-9ec7-4934-907b-901abd5b05a8",
   "metadata": {},
   "source": [
    "## 2-2. 나라별 작품 수"
   ]
  },
  {
   "cell_type": "code",
   "execution_count": 6,
   "id": "ff8fdca4-002c-4d3b-a438-89b2f976ea26",
   "metadata": {},
   "outputs": [],
   "source": [
    "import itertools\n",
    "list_country = [x.split(', ') for x in df_netflix.dropna(subset=['country'])['country'].tolist()]\n",
    "list_country = list(itertools.chain(*list_country))\n",
    "\n",
    "from collections import Counter\n",
    "df_netflix_country_count = pd.DataFrame(Counter(list_country).most_common()[:10], columns=['Country', 'Count'])"
   ]
  },
  {
   "cell_type": "code",
   "execution_count": 7,
   "id": "22429446-eb5e-4e06-a5ff-2ad76288e63b",
   "metadata": {},
   "outputs": [
    {
     "data": {
      "image/png": "[encoded data removed]",
      "text/plain": [
       "<Figure size 720x576 with 1 Axes>"
      ]
     },
     "metadata": {
      "needs_background": "light"
     },
     "output_type": "display_data"
    }
   ],
   "source": [
    "plt.figure(figsize=(10,8))\n",
    "plt.title('Count Wise by Country')\n",
    "ax = sns.barplot(y=\"Country\", x='Count', data=df_netflix_country_count, palette=\"cool\", orient='h')"
   ]
  },
  {
   "cell_type": "markdown",
   "id": "df722da8-0417-4555-920b-938ba6c3bbeb",
   "metadata": {},
   "source": [
    "## 2-3. 연도별 작품 수"
   ]
  },
  {
   "cell_type": "code",
   "execution_count": 8,
   "id": "50076b41-9ce1-4a89-9026-e64411074687",
   "metadata": {},
   "outputs": [
    {
     "data": {
      "image/png": "[encoded data removed]",
      "text/plain": [
       "<Figure size 864x720 with 1 Axes>"
      ]
     },
     "metadata": {
      "needs_background": "light"
     },
     "output_type": "display_data"
    }
   ],
   "source": [
    "plt.figure(figsize=(12,10))\n",
    "plt.title('Count Wise by Year')\n",
    "ax = sns.countplot(y='release_year', data=df_netflix, palette=\"cool\", order=df_netflix['release_year'].value_counts().index[0:15])"
   ]
  },
  {
   "cell_type": "markdown",
   "id": "647b3184-f022-4666-8727-29568a20c927",
   "metadata": {},
   "source": [
    "# 3. 데이터 전처리"
   ]
  },
  {
   "cell_type": "markdown",
   "id": "e25e2d1f-8694-4f9b-96db-f8b2df263833",
   "metadata": {},
   "source": [
    "## 3-1. 일련번호, 제목, 장르, 설명 외 다른 칼럼 삭제"
   ]
  },
  {
   "cell_type": "code",
   "execution_count": 9,
   "id": "5f378bbf-428a-494c-a17c-4fc70fa4513f",
   "metadata": {},
   "outputs": [
    {
     "data": {
      "text/html": [
       "<div>\n",
       "<style scoped>\n",
       "    .dataframe tbody tr th:only-of-type {\n",
       "        vertical-align: middle;\n",
       "    }\n",
       "\n",
       "    .dataframe tbody tr th {\n",
       "        vertical-align: top;\n",
       "    }\n",
       "\n",
       "    .dataframe thead th {\n",
       "        text-align: right;\n",
       "    }\n",
       "</style>\n",
       "<table border=\"1\" class=\"dataframe\">\n",
       "  <thead>\n",
       "    <tr style=\"text-align: right;\">\n",
       "      <th></th>\n",
       "      <th>show_id</th>\n",
       "      <th>title</th>\n",
       "      <th>listed_in</th>\n",
       "      <th>description</th>\n",
       "    </tr>\n",
       "  </thead>\n",
       "  <tbody>\n",
       "    <tr>\n",
       "      <th>0</th>\n",
       "      <td>81145628</td>\n",
       "      <td>Norm of the North: King Sized Adventure</td>\n",
       "      <td>Children &amp; Family Movies, Comedies</td>\n",
       "      <td>Before planning an awesome wedding for his gra...</td>\n",
       "    </tr>\n",
       "    <tr>\n",
       "      <th>1</th>\n",
       "      <td>80117401</td>\n",
       "      <td>Jandino: Whatever it Takes</td>\n",
       "      <td>Stand-Up Comedy</td>\n",
       "      <td>Jandino Asporaat riffs on the challenges of ra...</td>\n",
       "    </tr>\n",
       "    <tr>\n",
       "      <th>2</th>\n",
       "      <td>70234439</td>\n",
       "      <td>Transformers Prime</td>\n",
       "      <td>Kids' TV</td>\n",
       "      <td>With the help of three human allies, the Autob...</td>\n",
       "    </tr>\n",
       "    <tr>\n",
       "      <th>3</th>\n",
       "      <td>80058654</td>\n",
       "      <td>Transformers: Robots in Disguise</td>\n",
       "      <td>Kids' TV</td>\n",
       "      <td>When a prison ship crash unleashes hundreds of...</td>\n",
       "    </tr>\n",
       "    <tr>\n",
       "      <th>4</th>\n",
       "      <td>80125979</td>\n",
       "      <td>#realityhigh</td>\n",
       "      <td>Comedies</td>\n",
       "      <td>When nerdy high schooler Dani finally attracts...</td>\n",
       "    </tr>\n",
       "  </tbody>\n",
       "</table>\n",
       "</div>"
      ],
      "text/plain": [
       "    show_id                                    title  \\\n",
       "0  81145628  Norm of the North: King Sized Adventure   \n",
       "1  80117401               Jandino: Whatever it Takes   \n",
       "2  70234439                       Transformers Prime   \n",
       "3  80058654         Transformers: Robots in Disguise   \n",
       "4  80125979                             #realityhigh   \n",
       "\n",
       "                            listed_in  \\\n",
       "0  Children & Family Movies, Comedies   \n",
       "1                     Stand-Up Comedy   \n",
       "2                            Kids' TV   \n",
       "3                            Kids' TV   \n",
       "4                            Comedies   \n",
       "\n",
       "                                         description  \n",
       "0  Before planning an awesome wedding for his gra...  \n",
       "1  Jandino Asporaat riffs on the challenges of ra...  \n",
       "2  With the help of three human allies, the Autob...  \n",
       "3  When a prison ship crash unleashes hundreds of...  \n",
       "4  When nerdy high schooler Dani finally attracts...  "
      ]
     },
     "execution_count": 9,
     "metadata": {},
     "output_type": "execute_result"
    }
   ],
   "source": [
    "df_netflix.drop(columns=['director', 'cast', 'country', 'date_added', 'release_year', 'rating', 'duration', 'type'], inplace=True)\n",
    "df_netflix.head()"
   ]
  },
  {
   "cell_type": "markdown",
   "id": "1b5c4f09-0cf5-4fb6-9270-a9ea0ee2b7b3",
   "metadata": {},
   "source": [
    "## 3-2. 문장부호 및 불용어 삭제"
   ]
  },
  {
   "cell_type": "code",
   "execution_count": 10,
   "id": "1d7ee46a-e8aa-42a9-a3eb-db1457ba6257",
   "metadata": {},
   "outputs": [
    {
     "data": {
      "text/plain": [
       "'Jandino Asporaat riffs on the challenges of raising kids and serenades the audience with a rousing rendition of \"Sex on Fire\" in his comedy show.'"
      ]
     },
     "execution_count": 10,
     "metadata": {},
     "output_type": "execute_result"
    }
   ],
   "source": [
    "df_netflix['description'][1]"
   ]
  },
  {
   "cell_type": "code",
   "execution_count": 11,
   "id": "8d41edd0-1f56-439d-868e-76f0d05a00fa",
   "metadata": {},
   "outputs": [],
   "source": [
    "# 소문자 통일\n",
    "df_netflix['title_list'] = df_netflix['title'].str.lower()\n",
    "df_netflix['listed_in'] = df_netflix['listed_in'].str.lower()\n",
    "df_netflix['description'] = df_netflix['description'].str.lower()"
   ]
  },
  {
   "cell_type": "code",
   "execution_count": 12,
   "id": "ff484d23-5a71-49b6-974a-74912d381055",
   "metadata": {},
   "outputs": [
    {
     "data": {
      "text/plain": [
       "'jandino asporaat riffs on the challenges of raising kids and serenades the audience with a rousing rendition of \"sex on fire\" in his comedy show.'"
      ]
     },
     "execution_count": 12,
     "metadata": {},
     "output_type": "execute_result"
    }
   ],
   "source": [
    "df_netflix['description'][1]"
   ]
  },
  {
   "cell_type": "code",
   "execution_count": 13,
   "id": "3902da32-d12e-4aaf-8429-f5b62ac6747f",
   "metadata": {},
   "outputs": [],
   "source": [
    "# 단어 토큰화\n",
    "df_netflix['title_list'] = df_netflix['title_list'].apply(word_tokenize)\n",
    "df_netflix['listed_in'] = df_netflix['listed_in'].apply(word_tokenize)\n",
    "df_netflix['description'] = df_netflix['description'].apply(word_tokenize)"
   ]
  },
  {
   "cell_type": "code",
   "execution_count": 14,
   "id": "8bf34446-43d3-4ce7-88a7-cf43fa95ce83",
   "metadata": {},
   "outputs": [
    {
     "data": {
      "text/plain": [
       "['jandino',\n",
       " 'asporaat',\n",
       " 'riffs',\n",
       " 'on',\n",
       " 'the',\n",
       " 'challenges',\n",
       " 'of',\n",
       " 'raising',\n",
       " 'kids',\n",
       " 'and',\n",
       " 'serenades',\n",
       " 'the',\n",
       " 'audience',\n",
       " 'with',\n",
       " 'a',\n",
       " 'rousing',\n",
       " 'rendition',\n",
       " 'of',\n",
       " '``',\n",
       " 'sex',\n",
       " 'on',\n",
       " 'fire',\n",
       " \"''\",\n",
       " 'in',\n",
       " 'his',\n",
       " 'comedy',\n",
       " 'show',\n",
       " '.']"
      ]
     },
     "execution_count": 14,
     "metadata": {},
     "output_type": "execute_result"
    }
   ],
   "source": [
    "df_netflix['description'][1]"
   ]
  },
  {
   "cell_type": "code",
   "execution_count": 15,
   "id": "daf02949-a777-44c4-83b2-25c77b16d4d7",
   "metadata": {},
   "outputs": [],
   "source": [
    "# 불용어 처리\n",
    "list_stopwords = set(stopwords.words('english') + list(punctuation))\n",
    "df_netflix['title_list'] = df_netflix['title_list'].apply(lambda x: [word for word in x if word not in list_stopwords])\n",
    "df_netflix['listed_in'] = df_netflix['listed_in'].apply(lambda x: [word for word in x if word not in list_stopwords])\n",
    "df_netflix['description'] = df_netflix['description'].apply(lambda x: [word for word in x if word not in list_stopwords])"
   ]
  },
  {
   "cell_type": "code",
   "execution_count": 16,
   "id": "df1522ba-b1b3-4612-8ebd-0794f3b6c98c",
   "metadata": {},
   "outputs": [
    {
     "data": {
      "text/plain": [
       "['jandino',\n",
       " 'asporaat',\n",
       " 'riffs',\n",
       " 'challenges',\n",
       " 'raising',\n",
       " 'kids',\n",
       " 'serenades',\n",
       " 'audience',\n",
       " 'rousing',\n",
       " 'rendition',\n",
       " '``',\n",
       " 'sex',\n",
       " 'fire',\n",
       " \"''\",\n",
       " 'comedy',\n",
       " 'show']"
      ]
     },
     "execution_count": 16,
     "metadata": {},
     "output_type": "execute_result"
    }
   ],
   "source": [
    "df_netflix['description'][1]"
   ]
  },
  {
   "cell_type": "code",
   "execution_count": 17,
   "id": "656d3f15-2e0c-4b66-9bad-5da010a6850c",
   "metadata": {},
   "outputs": [],
   "source": [
    "# 문장부호 제거\n",
    "df_netflix['description'] = df_netflix['description'].apply(lambda x : [word.translate(str.maketrans('', '', string.punctuation)) for word in x])\n",
    "df_netflix['description'] = df_netflix['description'].apply(lambda x : [word for word in x if len(word) > 0])"
   ]
  },
  {
   "cell_type": "code",
   "execution_count": 18,
   "id": "7e54ca49-992d-491a-95a5-b431cd8de9af",
   "metadata": {},
   "outputs": [
    {
     "data": {
      "text/plain": [
       "['jandino',\n",
       " 'asporaat',\n",
       " 'riffs',\n",
       " 'challenges',\n",
       " 'raising',\n",
       " 'kids',\n",
       " 'serenades',\n",
       " 'audience',\n",
       " 'rousing',\n",
       " 'rendition',\n",
       " 'sex',\n",
       " 'fire',\n",
       " 'comedy',\n",
       " 'show']"
      ]
     },
     "execution_count": 18,
     "metadata": {},
     "output_type": "execute_result"
    }
   ],
   "source": [
    "df_netflix['description'][1]"
   ]
  },
  {
   "cell_type": "code",
   "execution_count": 19,
   "id": "3a8d23ed-11ee-4562-a94e-8d800be24c4f",
   "metadata": {},
   "outputs": [],
   "source": [
    "# 중복값 제거\n",
    "df_netflix['title_list'] = df_netflix['title_list'].apply(lambda x : list(set(x)))\n",
    "df_netflix['listed_in'] = df_netflix['listed_in'].apply(lambda x : list(set(x)))\n",
    "df_netflix['description'] = df_netflix['description'].apply(lambda x : list(set(x)))"
   ]
  },
  {
   "cell_type": "code",
   "execution_count": 20,
   "id": "5eeead3d-d456-48db-8664-12b17249d7a9",
   "metadata": {},
   "outputs": [
    {
     "data": {
      "text/plain": [
       "['jandino',\n",
       " 'raising',\n",
       " 'rousing',\n",
       " 'fire',\n",
       " 'comedy',\n",
       " 'show',\n",
       " 'riffs',\n",
       " 'serenades',\n",
       " 'asporaat',\n",
       " 'kids',\n",
       " 'rendition',\n",
       " 'challenges',\n",
       " 'sex',\n",
       " 'audience']"
      ]
     },
     "execution_count": 20,
     "metadata": {},
     "output_type": "execute_result"
    }
   ],
   "source": [
    "df_netflix['description'][1]"
   ]
  },
  {
   "cell_type": "code",
   "execution_count": 43,
   "id": "683eae2e-a04e-46a2-a86d-39cc9239e143",
   "metadata": {},
   "outputs": [
    {
     "data": {
      "text/html": [
       "<div>\n",
       "<style scoped>\n",
       "    .dataframe tbody tr th:only-of-type {\n",
       "        vertical-align: middle;\n",
       "    }\n",
       "\n",
       "    .dataframe tbody tr th {\n",
       "        vertical-align: top;\n",
       "    }\n",
       "\n",
       "    .dataframe thead th {\n",
       "        text-align: right;\n",
       "    }\n",
       "</style>\n",
       "<table border=\"1\" class=\"dataframe\">\n",
       "  <thead>\n",
       "    <tr style=\"text-align: right;\">\n",
       "      <th></th>\n",
       "      <th>show_id</th>\n",
       "      <th>title</th>\n",
       "      <th>listed_in</th>\n",
       "      <th>description</th>\n",
       "      <th>title_list</th>\n",
       "    </tr>\n",
       "  </thead>\n",
       "  <tbody>\n",
       "    <tr>\n",
       "      <th>0</th>\n",
       "      <td>81145628</td>\n",
       "      <td>Norm of the North: King Sized Adventure</td>\n",
       "      <td>[children, movies, comedies, family]</td>\n",
       "      <td>[bear, back, awesome, stolen, wedding, take, f...</td>\n",
       "      <td>[norm, adventure, king, sized, north]</td>\n",
       "    </tr>\n",
       "    <tr>\n",
       "      <th>1</th>\n",
       "      <td>80117401</td>\n",
       "      <td>Jandino: Whatever it Takes</td>\n",
       "      <td>[comedy, stand-up]</td>\n",
       "      <td>[jandino, raising, rousing, fire, comedy, show...</td>\n",
       "      <td>[jandino, whatever, takes]</td>\n",
       "    </tr>\n",
       "    <tr>\n",
       "      <th>2</th>\n",
       "      <td>70234439</td>\n",
       "      <td>Transformers Prime</td>\n",
       "      <td>[tv, kids]</td>\n",
       "      <td>[decepticons, help, human, leader, autobots, t...</td>\n",
       "      <td>[prime, transformers]</td>\n",
       "    </tr>\n",
       "    <tr>\n",
       "      <th>3</th>\n",
       "      <td>80058654</td>\n",
       "      <td>Transformers: Robots in Disguise</td>\n",
       "      <td>[tv, kids]</td>\n",
       "      <td>[prison, decepticons, unleashes, new, autobot,...</td>\n",
       "      <td>[robots, disguise, transformers]</td>\n",
       "    </tr>\n",
       "    <tr>\n",
       "      <th>4</th>\n",
       "      <td>80125979</td>\n",
       "      <td>#realityhigh</td>\n",
       "      <td>[comedies]</td>\n",
       "      <td>[attracts, dani, cross, hairs, media, social, ...</td>\n",
       "      <td>[realityhigh]</td>\n",
       "    </tr>\n",
       "  </tbody>\n",
       "</table>\n",
       "</div>"
      ],
      "text/plain": [
       "    show_id                                    title  \\\n",
       "0  81145628  Norm of the North: King Sized Adventure   \n",
       "1  80117401               Jandino: Whatever it Takes   \n",
       "2  70234439                       Transformers Prime   \n",
       "3  80058654         Transformers: Robots in Disguise   \n",
       "4  80125979                             #realityhigh   \n",
       "\n",
       "                              listed_in  \\\n",
       "0  [children, movies, comedies, family]   \n",
       "1                    [comedy, stand-up]   \n",
       "2                            [tv, kids]   \n",
       "3                            [tv, kids]   \n",
       "4                            [comedies]   \n",
       "\n",
       "                                         description  \\\n",
       "0  [bear, back, awesome, stolen, wedding, take, f...   \n",
       "1  [jandino, raising, rousing, fire, comedy, show...   \n",
       "2  [decepticons, help, human, leader, autobots, t...   \n",
       "3  [prison, decepticons, unleashes, new, autobot,...   \n",
       "4  [attracts, dani, cross, hairs, media, social, ...   \n",
       "\n",
       "                              title_list  \n",
       "0  [norm, adventure, king, sized, north]  \n",
       "1             [jandino, whatever, takes]  \n",
       "2                  [prime, transformers]  \n",
       "3       [robots, disguise, transformers]  \n",
       "4                          [realityhigh]  "
      ]
     },
     "execution_count": 43,
     "metadata": {},
     "output_type": "execute_result"
    }
   ],
   "source": [
    "df_netflix.head()"
   ]
  },
  {
   "cell_type": "markdown",
   "id": "0c19d772-d2a6-49f0-be28-4b241f7cbef2",
   "metadata": {},
   "source": [
    "# 4. Word2Vec 모델 불러오기"
   ]
  },
  {
   "cell_type": "code",
   "execution_count": 22,
   "id": "725f910d-3410-444d-802b-ed8bf818f368",
   "metadata": {},
   "outputs": [],
   "source": [
    "wv = api.load('word2vec-google-news-300')"
   ]
  },
  {
   "cell_type": "markdown",
   "id": "4b69600a-a98c-469a-ac35-f5ee07d1dbbe",
   "metadata": {},
   "source": [
    "# 5. 장르, 설명, 제목을 이용하여 유사한 작품 찾기"
   ]
  },
  {
   "cell_type": "code",
   "execution_count": 28,
   "id": "f10b6c64-93b3-48e8-91cf-e7373ec42a1d",
   "metadata": {},
   "outputs": [],
   "source": [
    "matrix_netflix_vocab = []\n",
    "\n",
    "# 토큰화된 장르, 설명, 제목 단어들이 WV에 있다면 추가\n",
    "for list_ in df_netflix.to_numpy():\n",
    "    list_[2] = [word for word in list_[2] if word in wv]\n",
    "    list_[3] = [word for word in list_[3] if word in wv]\n",
    "    list_[4] = [word for word in list_[4] if word in wv]\n",
    "    matrix_netflix_vocab.append(list_)\n",
    "df_netflix_vocab = pd.DataFrame(matrix_netflix_vocab, columns=df_netflix.columns)"
   ]
  },
  {
   "cell_type": "code",
   "execution_count": 46,
   "id": "350c2fe9-4b20-470c-ba52-54affc668409",
   "metadata": {},
   "outputs": [
    {
     "data": {
      "text/html": [
       "<div>\n",
       "<style scoped>\n",
       "    .dataframe tbody tr th:only-of-type {\n",
       "        vertical-align: middle;\n",
       "    }\n",
       "\n",
       "    .dataframe tbody tr th {\n",
       "        vertical-align: top;\n",
       "    }\n",
       "\n",
       "    .dataframe thead th {\n",
       "        text-align: right;\n",
       "    }\n",
       "</style>\n",
       "<table border=\"1\" class=\"dataframe\">\n",
       "  <thead>\n",
       "    <tr style=\"text-align: right;\">\n",
       "      <th></th>\n",
       "      <th>show_id</th>\n",
       "      <th>title</th>\n",
       "      <th>listed_in</th>\n",
       "      <th>description</th>\n",
       "      <th>title_list</th>\n",
       "    </tr>\n",
       "  </thead>\n",
       "  <tbody>\n",
       "    <tr>\n",
       "      <th>0</th>\n",
       "      <td>81145628</td>\n",
       "      <td>Norm of the North: King Sized Adventure</td>\n",
       "      <td>[children, movies, comedies, family]</td>\n",
       "      <td>[bear, back, awesome, stolen, wedding, take, f...</td>\n",
       "      <td>[norm, adventure, king, sized, north]</td>\n",
       "    </tr>\n",
       "    <tr>\n",
       "      <th>1</th>\n",
       "      <td>80117401</td>\n",
       "      <td>Jandino: Whatever it Takes</td>\n",
       "      <td>[comedy]</td>\n",
       "      <td>[raising, rousing, fire, comedy, show, riffs, ...</td>\n",
       "      <td>[whatever, takes]</td>\n",
       "    </tr>\n",
       "    <tr>\n",
       "      <th>2</th>\n",
       "      <td>70234439</td>\n",
       "      <td>Transformers Prime</td>\n",
       "      <td>[tv, kids]</td>\n",
       "      <td>[decepticons, help, human, leader, autobots, t...</td>\n",
       "      <td>[prime, transformers]</td>\n",
       "    </tr>\n",
       "    <tr>\n",
       "      <th>3</th>\n",
       "      <td>80058654</td>\n",
       "      <td>Transformers: Robots in Disguise</td>\n",
       "      <td>[tv, kids]</td>\n",
       "      <td>[prison, decepticons, unleashes, new, autobot,...</td>\n",
       "      <td>[robots, disguise, transformers]</td>\n",
       "    </tr>\n",
       "    <tr>\n",
       "      <th>4</th>\n",
       "      <td>80125979</td>\n",
       "      <td>#realityhigh</td>\n",
       "      <td>[comedies]</td>\n",
       "      <td>[attracts, dani, cross, hairs, media, social, ...</td>\n",
       "      <td>[]</td>\n",
       "    </tr>\n",
       "  </tbody>\n",
       "</table>\n",
       "</div>"
      ],
      "text/plain": [
       "    show_id                                    title  \\\n",
       "0  81145628  Norm of the North: King Sized Adventure   \n",
       "1  80117401               Jandino: Whatever it Takes   \n",
       "2  70234439                       Transformers Prime   \n",
       "3  80058654         Transformers: Robots in Disguise   \n",
       "4  80125979                             #realityhigh   \n",
       "\n",
       "                              listed_in  \\\n",
       "0  [children, movies, comedies, family]   \n",
       "1                              [comedy]   \n",
       "2                            [tv, kids]   \n",
       "3                            [tv, kids]   \n",
       "4                            [comedies]   \n",
       "\n",
       "                                         description  \\\n",
       "0  [bear, back, awesome, stolen, wedding, take, f...   \n",
       "1  [raising, rousing, fire, comedy, show, riffs, ...   \n",
       "2  [decepticons, help, human, leader, autobots, t...   \n",
       "3  [prison, decepticons, unleashes, new, autobot,...   \n",
       "4  [attracts, dani, cross, hairs, media, social, ...   \n",
       "\n",
       "                              title_list  \n",
       "0  [norm, adventure, king, sized, north]  \n",
       "1                      [whatever, takes]  \n",
       "2                  [prime, transformers]  \n",
       "3       [robots, disguise, transformers]  \n",
       "4                                     []  "
      ]
     },
     "execution_count": 46,
     "metadata": {},
     "output_type": "execute_result"
    }
   ],
   "source": [
    "df_netflix_vocab.head()"
   ]
  },
  {
   "cell_type": "code",
   "execution_count": 31,
   "id": "fdf7d811-3e96-47f4-8663-bac528cda5db",
   "metadata": {},
   "outputs": [],
   "source": [
    "def recommendation(title):\n",
    "    matrix_netflix_title_vocab = []\n",
    "    for list_ in df_netflix[df_netflix['title'] == title].to_numpy():\n",
    "        list_[2] = [word for word in list_[2] if word in wv]\n",
    "        list_[3] = [word for word in list_[3] if word in wv]\n",
    "        list_[4] = [word for word in list_[4] if word in wv]\n",
    "        matrix_netflix_title_vocab.append(list_)\n",
    "\n",
    "    matrix_similarity = []\n",
    "    pbar = tqdm(matrix_netflix_vocab)\n",
    "    for list1 in pbar:\n",
    "        for list2 in matrix_netflix_title_vocab:\n",
    "            score_catg = wv.n_similarity(list1[2], list2[2]) # 장르 유사도 계산\n",
    "            score_desc = wv.n_similarity(list1[3], list2[3]) # 설명 유사도 계산\n",
    "            try:\n",
    "                score_title = wv.n_similarity(list1[4], list2[4])/2\n",
    "            except:\n",
    "                score_title = 0\n",
    "            if ((list1[1] != list2[1]) & (score_catg > 0.85)):\n",
    "                matrix_similarity.append([list1[1], list2[1], score_title, score_catg, score_desc])\n",
    "        pbar.update()\n",
    "    pbar.close()\n",
    "    df_netflix_similarity = pd.DataFrame(matrix_similarity, columns = ['recommendation','title','score_title', 'score_category', 'score_description'])\n",
    "    df_netflix_similarity['final_score'] = df_netflix_similarity['score_title'] + df_netflix_similarity['score_category'] + df_netflix_similarity['score_description']\n",
    "    return (df_netflix_similarity.sort_values(by=['final_score', 'score_category', 'score_description', 'score_title'], ascending=False).head(10))"
   ]
  },
  {
   "cell_type": "code",
   "execution_count": 32,
   "id": "85b4d7fc-2b25-4a80-89be-5f66209c4d65",
   "metadata": {},
   "outputs": [
    {
     "name": "stderr",
     "output_type": "stream",
     "text": [
      "100%|██████████| 6234/6234 [00:01<00:00, 4951.55it/s]\n"
     ]
    },
    {
     "data": {
      "text/html": [
       "<div>\n",
       "<style scoped>\n",
       "    .dataframe tbody tr th:only-of-type {\n",
       "        vertical-align: middle;\n",
       "    }\n",
       "\n",
       "    .dataframe tbody tr th {\n",
       "        vertical-align: top;\n",
       "    }\n",
       "\n",
       "    .dataframe thead th {\n",
       "        text-align: right;\n",
       "    }\n",
       "</style>\n",
       "<table border=\"1\" class=\"dataframe\">\n",
       "  <thead>\n",
       "    <tr style=\"text-align: right;\">\n",
       "      <th></th>\n",
       "      <th>recommendation</th>\n",
       "      <th>title</th>\n",
       "      <th>score_title</th>\n",
       "      <th>score_category</th>\n",
       "      <th>score_description</th>\n",
       "      <th>final_score</th>\n",
       "    </tr>\n",
       "  </thead>\n",
       "  <tbody>\n",
       "    <tr>\n",
       "      <th>141</th>\n",
       "      <td>Doom: Annihilation</td>\n",
       "      <td>Avengers: Infinity War</td>\n",
       "      <td>0.210455</td>\n",
       "      <td>0.883960</td>\n",
       "      <td>0.699530</td>\n",
       "      <td>1.793944</td>\n",
       "    </tr>\n",
       "    <tr>\n",
       "      <th>111</th>\n",
       "      <td>Terminator Salvation</td>\n",
       "      <td>Avengers: Infinity War</td>\n",
       "      <td>0.214154</td>\n",
       "      <td>1.000000</td>\n",
       "      <td>0.555739</td>\n",
       "      <td>1.769893</td>\n",
       "    </tr>\n",
       "    <tr>\n",
       "      <th>89</th>\n",
       "      <td>Occupation</td>\n",
       "      <td>Avengers: Infinity War</td>\n",
       "      <td>0.172816</td>\n",
       "      <td>1.000000</td>\n",
       "      <td>0.583606</td>\n",
       "      <td>1.756422</td>\n",
       "    </tr>\n",
       "    <tr>\n",
       "      <th>172</th>\n",
       "      <td>Oh No! It's an Alien Invasion</td>\n",
       "      <td>Avengers: Infinity War</td>\n",
       "      <td>0.283219</td>\n",
       "      <td>0.860369</td>\n",
       "      <td>0.605135</td>\n",
       "      <td>1.748722</td>\n",
       "    </tr>\n",
       "    <tr>\n",
       "      <th>64</th>\n",
       "      <td>Hulk Vs.</td>\n",
       "      <td>Avengers: Infinity War</td>\n",
       "      <td>0.118704</td>\n",
       "      <td>1.000000</td>\n",
       "      <td>0.628452</td>\n",
       "      <td>1.747156</td>\n",
       "    </tr>\n",
       "    <tr>\n",
       "      <th>86</th>\n",
       "      <td>The Book of Eli</td>\n",
       "      <td>Avengers: Infinity War</td>\n",
       "      <td>0.131509</td>\n",
       "      <td>1.000000</td>\n",
       "      <td>0.614370</td>\n",
       "      <td>1.745879</td>\n",
       "    </tr>\n",
       "    <tr>\n",
       "      <th>110</th>\n",
       "      <td>Terminator 3: Rise of the Machines</td>\n",
       "      <td>Avengers: Infinity War</td>\n",
       "      <td>0.184206</td>\n",
       "      <td>1.000000</td>\n",
       "      <td>0.559653</td>\n",
       "      <td>1.743859</td>\n",
       "    </tr>\n",
       "    <tr>\n",
       "      <th>27</th>\n",
       "      <td>Supergirl</td>\n",
       "      <td>Avengers: Infinity War</td>\n",
       "      <td>0.153653</td>\n",
       "      <td>1.000000</td>\n",
       "      <td>0.589266</td>\n",
       "      <td>1.742918</td>\n",
       "    </tr>\n",
       "    <tr>\n",
       "      <th>161</th>\n",
       "      <td>Alien Warfare</td>\n",
       "      <td>Avengers: Infinity War</td>\n",
       "      <td>0.265108</td>\n",
       "      <td>1.000000</td>\n",
       "      <td>0.458889</td>\n",
       "      <td>1.723997</td>\n",
       "    </tr>\n",
       "    <tr>\n",
       "      <th>16</th>\n",
       "      <td>Scorpion King 5: Book of Souls</td>\n",
       "      <td>Avengers: Infinity War</td>\n",
       "      <td>0.197633</td>\n",
       "      <td>1.000000</td>\n",
       "      <td>0.516952</td>\n",
       "      <td>1.714585</td>\n",
       "    </tr>\n",
       "  </tbody>\n",
       "</table>\n",
       "</div>"
      ],
      "text/plain": [
       "                         recommendation                   title  score_title  \\\n",
       "141                  Doom: Annihilation  Avengers: Infinity War     0.210455   \n",
       "111                Terminator Salvation  Avengers: Infinity War     0.214154   \n",
       "89                           Occupation  Avengers: Infinity War     0.172816   \n",
       "172       Oh No! It's an Alien Invasion  Avengers: Infinity War     0.283219   \n",
       "64                             Hulk Vs.  Avengers: Infinity War     0.118704   \n",
       "86                      The Book of Eli  Avengers: Infinity War     0.131509   \n",
       "110  Terminator 3: Rise of the Machines  Avengers: Infinity War     0.184206   \n",
       "27                            Supergirl  Avengers: Infinity War     0.153653   \n",
       "161                       Alien Warfare  Avengers: Infinity War     0.265108   \n",
       "16       Scorpion King 5: Book of Souls  Avengers: Infinity War     0.197633   \n",
       "\n",
       "     score_category  score_description  final_score  \n",
       "141        0.883960           0.699530     1.793944  \n",
       "111        1.000000           0.555739     1.769893  \n",
       "89         1.000000           0.583606     1.756422  \n",
       "172        0.860369           0.605135     1.748722  \n",
       "64         1.000000           0.628452     1.747156  \n",
       "86         1.000000           0.614370     1.745879  \n",
       "110        1.000000           0.559653     1.743859  \n",
       "27         1.000000           0.589266     1.742918  \n",
       "161        1.000000           0.458889     1.723997  \n",
       "16         1.000000           0.516952     1.714585  "
      ]
     },
     "execution_count": 32,
     "metadata": {},
     "output_type": "execute_result"
    }
   ],
   "source": [
    "recommendation('Avengers: Infinity War')"
   ]
  },
  {
   "cell_type": "code",
   "execution_count": 33,
   "id": "c2e19286-8363-4a6b-8e27-cf31beaa1316",
   "metadata": {},
   "outputs": [
    {
     "name": "stderr",
     "output_type": "stream",
     "text": [
      "100%|██████████| 6234/6234 [00:01<00:00, 5060.08it/s] \n"
     ]
    },
    {
     "data": {
      "text/html": [
       "<div>\n",
       "<style scoped>\n",
       "    .dataframe tbody tr th:only-of-type {\n",
       "        vertical-align: middle;\n",
       "    }\n",
       "\n",
       "    .dataframe tbody tr th {\n",
       "        vertical-align: top;\n",
       "    }\n",
       "\n",
       "    .dataframe thead th {\n",
       "        text-align: right;\n",
       "    }\n",
       "</style>\n",
       "<table border=\"1\" class=\"dataframe\">\n",
       "  <thead>\n",
       "    <tr style=\"text-align: right;\">\n",
       "      <th></th>\n",
       "      <th>recommendation</th>\n",
       "      <th>title</th>\n",
       "      <th>score_title</th>\n",
       "      <th>score_category</th>\n",
       "      <th>score_description</th>\n",
       "      <th>final_score</th>\n",
       "    </tr>\n",
       "  </thead>\n",
       "  <tbody>\n",
       "    <tr>\n",
       "      <th>26</th>\n",
       "      <td>Supergirl</td>\n",
       "      <td>Black Panther</td>\n",
       "      <td>0.116688</td>\n",
       "      <td>1.000000</td>\n",
       "      <td>0.621391</td>\n",
       "      <td>1.738079</td>\n",
       "    </tr>\n",
       "    <tr>\n",
       "      <th>156</th>\n",
       "      <td>Clash of the Titans</td>\n",
       "      <td>Black Panther</td>\n",
       "      <td>0.047077</td>\n",
       "      <td>1.000000</td>\n",
       "      <td>0.674041</td>\n",
       "      <td>1.721117</td>\n",
       "    </tr>\n",
       "    <tr>\n",
       "      <th>54</th>\n",
       "      <td>Halo: The Fall of Reach</td>\n",
       "      <td>Black Panther</td>\n",
       "      <td>0.052581</td>\n",
       "      <td>1.000000</td>\n",
       "      <td>0.655358</td>\n",
       "      <td>1.707939</td>\n",
       "    </tr>\n",
       "    <tr>\n",
       "      <th>116</th>\n",
       "      <td>Chappie</td>\n",
       "      <td>Black Panther</td>\n",
       "      <td>0.112706</td>\n",
       "      <td>1.000000</td>\n",
       "      <td>0.579021</td>\n",
       "      <td>1.691727</td>\n",
       "    </tr>\n",
       "    <tr>\n",
       "      <th>20</th>\n",
       "      <td>Illang: The Wolf Brigade</td>\n",
       "      <td>Black Panther</td>\n",
       "      <td>0.219760</td>\n",
       "      <td>0.902778</td>\n",
       "      <td>0.566434</td>\n",
       "      <td>1.688972</td>\n",
       "    </tr>\n",
       "    <tr>\n",
       "      <th>19</th>\n",
       "      <td>Men in Black</td>\n",
       "      <td>Black Panther</td>\n",
       "      <td>0.297452</td>\n",
       "      <td>0.885755</td>\n",
       "      <td>0.503077</td>\n",
       "      <td>1.686284</td>\n",
       "    </tr>\n",
       "    <tr>\n",
       "      <th>173</th>\n",
       "      <td>DC's Legends of Tomorrow</td>\n",
       "      <td>Black Panther</td>\n",
       "      <td>0.086030</td>\n",
       "      <td>0.909350</td>\n",
       "      <td>0.689813</td>\n",
       "      <td>1.685193</td>\n",
       "    </tr>\n",
       "    <tr>\n",
       "      <th>27</th>\n",
       "      <td>Superman Returns</td>\n",
       "      <td>Black Panther</td>\n",
       "      <td>0.090467</td>\n",
       "      <td>1.000000</td>\n",
       "      <td>0.593951</td>\n",
       "      <td>1.684418</td>\n",
       "    </tr>\n",
       "    <tr>\n",
       "      <th>163</th>\n",
       "      <td>Season of the Witch</td>\n",
       "      <td>Black Panther</td>\n",
       "      <td>0.126985</td>\n",
       "      <td>1.000000</td>\n",
       "      <td>0.556901</td>\n",
       "      <td>1.683886</td>\n",
       "    </tr>\n",
       "    <tr>\n",
       "      <th>157</th>\n",
       "      <td>Jupiter Ascending</td>\n",
       "      <td>Black Panther</td>\n",
       "      <td>0.083517</td>\n",
       "      <td>1.000000</td>\n",
       "      <td>0.598604</td>\n",
       "      <td>1.682121</td>\n",
       "    </tr>\n",
       "  </tbody>\n",
       "</table>\n",
       "</div>"
      ],
      "text/plain": [
       "               recommendation          title  score_title  score_category  \\\n",
       "26                  Supergirl  Black Panther     0.116688        1.000000   \n",
       "156       Clash of the Titans  Black Panther     0.047077        1.000000   \n",
       "54    Halo: The Fall of Reach  Black Panther     0.052581        1.000000   \n",
       "116                   Chappie  Black Panther     0.112706        1.000000   \n",
       "20   Illang: The Wolf Brigade  Black Panther     0.219760        0.902778   \n",
       "19               Men in Black  Black Panther     0.297452        0.885755   \n",
       "173  DC's Legends of Tomorrow  Black Panther     0.086030        0.909350   \n",
       "27           Superman Returns  Black Panther     0.090467        1.000000   \n",
       "163       Season of the Witch  Black Panther     0.126985        1.000000   \n",
       "157         Jupiter Ascending  Black Panther     0.083517        1.000000   \n",
       "\n",
       "     score_description  final_score  \n",
       "26            0.621391     1.738079  \n",
       "156           0.674041     1.721117  \n",
       "54            0.655358     1.707939  \n",
       "116           0.579021     1.691727  \n",
       "20            0.566434     1.688972  \n",
       "19            0.503077     1.686284  \n",
       "173           0.689813     1.685193  \n",
       "27            0.593951     1.684418  \n",
       "163           0.556901     1.683886  \n",
       "157           0.598604     1.682121  "
      ]
     },
     "execution_count": 33,
     "metadata": {},
     "output_type": "execute_result"
    }
   ],
   "source": [
    "recommendation('Black Panther')"
   ]
  },
  {
   "cell_type": "code",
   "execution_count": 34,
   "id": "be7980ee-8abe-4647-9c53-4b1d81329f5b",
   "metadata": {},
   "outputs": [
    {
     "name": "stderr",
     "output_type": "stream",
     "text": [
      "100%|██████████| 6234/6234 [00:01<00:00, 5072.44it/s] \n"
     ]
    },
    {
     "data": {
      "text/html": [
       "<div>\n",
       "<style scoped>\n",
       "    .dataframe tbody tr th:only-of-type {\n",
       "        vertical-align: middle;\n",
       "    }\n",
       "\n",
       "    .dataframe tbody tr th {\n",
       "        vertical-align: top;\n",
       "    }\n",
       "\n",
       "    .dataframe thead th {\n",
       "        text-align: right;\n",
       "    }\n",
       "</style>\n",
       "<table border=\"1\" class=\"dataframe\">\n",
       "  <thead>\n",
       "    <tr style=\"text-align: right;\">\n",
       "      <th></th>\n",
       "      <th>recommendation</th>\n",
       "      <th>title</th>\n",
       "      <th>score_title</th>\n",
       "      <th>score_category</th>\n",
       "      <th>score_description</th>\n",
       "      <th>final_score</th>\n",
       "    </tr>\n",
       "  </thead>\n",
       "  <tbody>\n",
       "    <tr>\n",
       "      <th>55</th>\n",
       "      <td>Toast of London</td>\n",
       "      <td>Friends</td>\n",
       "      <td>0.112076</td>\n",
       "      <td>0.924088</td>\n",
       "      <td>0.686581</td>\n",
       "      <td>1.722745</td>\n",
       "    </tr>\n",
       "    <tr>\n",
       "      <th>29</th>\n",
       "      <td>Family Reunion</td>\n",
       "      <td>Friends</td>\n",
       "      <td>0.288784</td>\n",
       "      <td>0.853450</td>\n",
       "      <td>0.564787</td>\n",
       "      <td>1.707021</td>\n",
       "    </tr>\n",
       "    <tr>\n",
       "      <th>75</th>\n",
       "      <td>Episodes</td>\n",
       "      <td>Friends</td>\n",
       "      <td>0.040227</td>\n",
       "      <td>1.000000</td>\n",
       "      <td>0.644352</td>\n",
       "      <td>1.684579</td>\n",
       "    </tr>\n",
       "    <tr>\n",
       "      <th>67</th>\n",
       "      <td>Dad's Army</td>\n",
       "      <td>Friends</td>\n",
       "      <td>0.177361</td>\n",
       "      <td>0.924088</td>\n",
       "      <td>0.576079</td>\n",
       "      <td>1.677529</td>\n",
       "    </tr>\n",
       "    <tr>\n",
       "      <th>80</th>\n",
       "      <td>Big Mouth</td>\n",
       "      <td>Friends</td>\n",
       "      <td>0.085473</td>\n",
       "      <td>0.853450</td>\n",
       "      <td>0.722250</td>\n",
       "      <td>1.661173</td>\n",
       "    </tr>\n",
       "    <tr>\n",
       "      <th>51</th>\n",
       "      <td>Real Rob</td>\n",
       "      <td>Friends</td>\n",
       "      <td>0.090192</td>\n",
       "      <td>0.853450</td>\n",
       "      <td>0.693652</td>\n",
       "      <td>1.637294</td>\n",
       "    </tr>\n",
       "    <tr>\n",
       "      <th>53</th>\n",
       "      <td>I'm Sorry</td>\n",
       "      <td>Friends</td>\n",
       "      <td>0.123332</td>\n",
       "      <td>0.853450</td>\n",
       "      <td>0.657182</td>\n",
       "      <td>1.633965</td>\n",
       "    </tr>\n",
       "    <tr>\n",
       "      <th>60</th>\n",
       "      <td>F is for Family</td>\n",
       "      <td>Friends</td>\n",
       "      <td>0.199680</td>\n",
       "      <td>0.853450</td>\n",
       "      <td>0.572685</td>\n",
       "      <td>1.625816</td>\n",
       "    </tr>\n",
       "    <tr>\n",
       "      <th>73</th>\n",
       "      <td>The Andy Griffith Show</td>\n",
       "      <td>Friends</td>\n",
       "      <td>0.031710</td>\n",
       "      <td>1.000000</td>\n",
       "      <td>0.590680</td>\n",
       "      <td>1.622389</td>\n",
       "    </tr>\n",
       "    <tr>\n",
       "      <th>87</th>\n",
       "      <td>Frasier</td>\n",
       "      <td>Friends</td>\n",
       "      <td>0.000000</td>\n",
       "      <td>1.000000</td>\n",
       "      <td>0.619905</td>\n",
       "      <td>1.619905</td>\n",
       "    </tr>\n",
       "  </tbody>\n",
       "</table>\n",
       "</div>"
      ],
      "text/plain": [
       "            recommendation    title  score_title  score_category  \\\n",
       "55         Toast of London  Friends     0.112076        0.924088   \n",
       "29          Family Reunion  Friends     0.288784        0.853450   \n",
       "75                Episodes  Friends     0.040227        1.000000   \n",
       "67              Dad's Army  Friends     0.177361        0.924088   \n",
       "80               Big Mouth  Friends     0.085473        0.853450   \n",
       "51                Real Rob  Friends     0.090192        0.853450   \n",
       "53               I'm Sorry  Friends     0.123332        0.853450   \n",
       "60         F is for Family  Friends     0.199680        0.853450   \n",
       "73  The Andy Griffith Show  Friends     0.031710        1.000000   \n",
       "87                 Frasier  Friends     0.000000        1.000000   \n",
       "\n",
       "    score_description  final_score  \n",
       "55           0.686581     1.722745  \n",
       "29           0.564787     1.707021  \n",
       "75           0.644352     1.684579  \n",
       "67           0.576079     1.677529  \n",
       "80           0.722250     1.661173  \n",
       "51           0.693652     1.637294  \n",
       "53           0.657182     1.633965  \n",
       "60           0.572685     1.625816  \n",
       "73           0.590680     1.622389  \n",
       "87           0.619905     1.619905  "
      ]
     },
     "execution_count": 34,
     "metadata": {},
     "output_type": "execute_result"
    }
   ],
   "source": [
    "recommendation('Friends')"
   ]
  },
  {
   "cell_type": "code",
   "execution_count": null,
   "id": "2c1dbdca-50b1-4321-b265-1078255f8bc2",
   "metadata": {},
   "outputs": [],
   "source": []
  }
 ],
 "metadata": {
  "kernelspec": {
   "display_name": "Python 3 (ipykernel)",
   "language": "python",
   "name": "python3"
  },
  "language_info": {
   "codemirror_mode": {
    "name": "ipython",
    "version": 3
   },
   "file_extension": ".py",
   "mimetype": "text/x-python",
   "name": "python",
   "nbconvert_exporter": "python",
   "pygments_lexer": "ipython3",
   "version": "3.8.11"
  }
 },
 "nbformat": 4,
 "nbformat_minor": 5
}
